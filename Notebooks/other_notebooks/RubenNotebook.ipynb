{
 "cells": [
  {
   "cell_type": "markdown",
   "metadata": {},
   "source": [
    "# Imports"
   ]
  },
  {
   "cell_type": "code",
   "execution_count": null,
   "metadata": {},
   "outputs": [],
   "source": [
    "import pandas as pd\n",
    "import folium\n",
    "import matplotlib.pyplot as plt\n",
    "import json\n",
    "from datetime import datetime\n",
    "import imageio\n",
    "from folium.features import DivIcon"
   ]
  },
  {
   "cell_type": "markdown",
   "metadata": {
    "heading_collapsed": true
   },
   "source": [
    "# Exercise 1"
   ]
  },
  {
   "cell_type": "markdown",
   "metadata": {
    "hidden": true
   },
   "source": [
    "## Loading Data"
   ]
  },
  {
   "cell_type": "code",
   "execution_count": null,
   "metadata": {
    "hidden": true
   },
   "outputs": [],
   "source": [
    "PATH = {}\n",
    "PATH[\"data_raw\"] = \"../../data/raw/\"\n",
    "PATH[\"data_interim\"] = \"../data/interim/\"\n",
    "PATH[\"data_processed\"] = \"../data/processed/\"\n",
    "PATH[\"data_external\"] = \"../data/external/\"\n",
    "\n",
    "SUBPATH = {}\n",
    "SUBPATH[\"corona\"] = \"corona/\"\n",
    "SUBPATH[\"meta\"] = \"metadata/\"\n",
    "SUBPATH[\"shape\"] = \"shapefiles/\"\n",
    "SUBPATH[\"weather\"] = \"weather/\"\n",
    "\n",
    "FILENAME = {}\n",
    "\n",
    "FILENAME[\"corona\"] = \"de_corona.csv\"\n",
    "FILENAME[\"meta\"] = \"de_metadata.json\"\n",
    "FILENAME[\"shape\"] = \"de.geojson\"\n",
    "FILENAME[\"weather\"] = \"weather.csv\"\n",
    "\n",
    "corona = PATH[\"data_raw\"]+SUBPATH[\"corona\"]+FILENAME[\"corona\"]\n",
    "meta = PATH[\"data_raw\"]+SUBPATH[\"meta\"]+FILENAME[\"meta\"]\n",
    "shape = PATH[\"data_raw\"]+SUBPATH[\"shape\"]+FILENAME[\"shape\"]\n",
    "weather = PATH[\"data_raw\"]+SUBPATH[\"weather\"]+FILENAME[\"weather\"]"
   ]
  },
  {
   "cell_type": "code",
   "execution_count": null,
   "metadata": {
    "hidden": true,
    "scrolled": false
   },
   "outputs": [],
   "source": [
    "raw_data = {}\n",
    "\n",
    "dateparse = lambda x: datetime.strptime(x, '%Y-%m-%d')\n",
    "\n",
    "raw_data['de_corona'] = pd.read_csv(corona, sep='\\t', parse_dates=['date'], date_parser=dateparse)\n",
    "raw_data['weather'] = pd.read_csv(weather, sep='\\t', parse_dates=['date'], date_parser=dateparse)\n",
    "additional = pd.read_csv('../../data/raw/weather/weather2.csv', sep='\\t', parse_dates=['date'], date_parser=dateparse)\n",
    "raw_data['weather'] = raw_data['weather'].append(additional)"
   ]
  },
  {
   "cell_type": "markdown",
   "metadata": {
    "hidden": true
   },
   "source": [
    "## Dimension"
   ]
  },
  {
   "cell_type": "code",
   "execution_count": null,
   "metadata": {
    "hidden": true
   },
   "outputs": [],
   "source": [
    "print(\"weather\" + \"\\t dataFrame shape: \" + str(raw_data[\"weather\"].shape))\n",
    "print(\"de_corona\" + \"\\t dataFrame shape: \" + str(raw_data[\"de_corona\"].shape))"
   ]
  },
  {
   "cell_type": "markdown",
   "metadata": {
    "hidden": true
   },
   "source": [
    "## Sanity Check"
   ]
  },
  {
   "cell_type": "markdown",
   "metadata": {
    "hidden": true
   },
   "source": [
    "make a sanity check: are there missing values anywhere in the weather data?"
   ]
  },
  {
   "cell_type": "code",
   "execution_count": null,
   "metadata": {
    "hidden": true
   },
   "outputs": [],
   "source": [
    "print(raw_data[\"weather\"].isna().any().any())"
   ]
  },
  {
   "cell_type": "code",
   "execution_count": null,
   "metadata": {
    "hidden": true
   },
   "outputs": [],
   "source": [
    "raw_data[\"weather\"][\"TemperatureAboveGround\"] = raw_data[\"weather\"][\"TemperatureAboveGround\"] - 273.15"
   ]
  },
  {
   "cell_type": "markdown",
   "metadata": {
    "hidden": true
   },
   "source": [
    "## Filter Data"
   ]
  },
  {
   "cell_type": "markdown",
   "metadata": {
    "hidden": true
   },
   "source": [
    "filter the weather dataframe so that it only contains rows referring to your country of study"
   ]
  },
  {
   "cell_type": "code",
   "execution_count": null,
   "metadata": {
    "hidden": true
   },
   "outputs": [],
   "source": [
    "interim_data = {}"
   ]
  },
  {
   "cell_type": "code",
   "execution_count": null,
   "metadata": {
    "hidden": true
   },
   "outputs": [],
   "source": [
    "interim_data[\"weather\"] = raw_data[\"weather\"][raw_data[\"weather\"][\"iso3166-2\"].str.startswith(\"DE\")]\n",
    "interim_data[\"weather\"].to_csv(\"../../Data/Interim/interim_weather.csv\")\n",
    "interim_data[\"weather\"]"
   ]
  },
  {
   "cell_type": "markdown",
   "metadata": {
    "hidden": true
   },
   "source": [
    "## By region"
   ]
  },
  {
   "cell_type": "markdown",
   "metadata": {
    "hidden": true
   },
   "source": [
    "aggregate the weather data by region and calculate the min, mean, median, and max of all numeric columns. Then plot one of these variables of your choice."
   ]
  },
  {
   "cell_type": "code",
   "execution_count": null,
   "metadata": {
    "hidden": true
   },
   "outputs": [],
   "source": [
    "weather_by_region = interim_data[\"weather\"].groupby(by = \"iso3166-2\").agg([\"min\", \"mean\", \"median\", \"max\"])\n",
    "weather_by_region"
   ]
  },
  {
   "cell_type": "code",
   "execution_count": null,
   "metadata": {
    "hidden": true
   },
   "outputs": [],
   "source": [
    "idx = pd.IndexSlice\n",
    "weather_by_region.loc[:, idx[\"RelativeHumiditySurface\", :, :]\n",
    "                     ].plot.bar(y = (\"RelativeHumiditySurface\", \"mean\"\n",
    "                     ),rot=30, title=\"RelativeHumiditySurface\").legend(loc = \"best\");"
   ]
  },
  {
   "cell_type": "markdown",
   "metadata": {
    "hidden": true
   },
   "source": [
    "## By date"
   ]
  },
  {
   "cell_type": "code",
   "execution_count": null,
   "metadata": {
    "hidden": true
   },
   "outputs": [],
   "source": [
    "weather_by_day = interim_data[\"weather\"].groupby(by=\"date\").mean()"
   ]
  },
  {
   "cell_type": "code",
   "execution_count": null,
   "metadata": {
    "hidden": true
   },
   "outputs": [],
   "source": [
    "weather_by_day"
   ]
  },
  {
   "cell_type": "code",
   "execution_count": null,
   "metadata": {
    "hidden": true,
    "scrolled": false
   },
   "outputs": [],
   "source": [
    "weather_by_day.loc[:, \"Totalprecipitation\"].plot.line(rot=30).legend(loc = \"best\");"
   ]
  },
  {
   "cell_type": "markdown",
   "metadata": {
    "hidden": true
   },
   "source": [
    "## Folium Stuff"
   ]
  },
  {
   "cell_type": "code",
   "execution_count": null,
   "metadata": {
    "hidden": true
   },
   "outputs": [],
   "source": [
    "m = folium.Map(location = [51.5, 10.7], zoom_start = 5)"
   ]
  },
  {
   "cell_type": "code",
   "execution_count": null,
   "metadata": {
    "hidden": true
   },
   "outputs": [],
   "source": [
    "folium.GeoJson(shape, name = \"geojson\").add_to(m)\n",
    "\n",
    "folium.LayerControl().add_to(m)\n",
    "\n",
    "m"
   ]
  },
  {
   "cell_type": "markdown",
   "metadata": {},
   "source": [
    "# Task 3"
   ]
  },
  {
   "cell_type": "code",
   "execution_count": null,
   "metadata": {},
   "outputs": [],
   "source": []
  },
  {
   "cell_type": "code",
   "execution_count": null,
   "metadata": {},
   "outputs": [],
   "source": [
    "with open(meta, 'r', encoding='utf-8') as f:\n",
    "    country_metadata = json.load(f)"
   ]
  },
  {
   "cell_type": "code",
   "execution_count": null,
   "metadata": {},
   "outputs": [],
   "source": [
    "# First task, we need to convert the region names in the corona data with the iso3166-2 codes\n",
    "# To do so, first we need a dictionary mapping the region name to the code\n",
    "region_map = {country_metadata[\"country_metadata\"][i][\"covid_region_code\"]: country_metadata[\"country_metadata\"][i][\"iso3166-2_code\"] for i in range(len(country_metadata[\"country_metadata\"]))}\n",
    "\n",
    "# Then, we use the Series.map function\n",
    "raw_data[\"de_corona\"][\"region\"] = raw_data[\"de_corona\"][\"region_code\"].map(region_map)\n",
    "\n",
    "# Second task, we can now calculate how many cases there were in total for the region\n",
    "corona_df_by_region = raw_data[\"de_corona\"].groupby(by = \"region\")[\"confirmed_addition\"].sum().reset_index()\n",
    "dead_by_region      = raw_data[\"de_corona\"].groupby(by = \"region\")[\"deceased_addition\"].sum().reset_index()\n",
    "# If we want to add population data, we need to create another dictionary from the country metadata\n",
    "# In this case, we need to map from the region iso3166-2 code to the region's population\n",
    "population_map = {\n",
    "    country_metadata[\"country_metadata\"][i][\"iso3166-2_code\"]: \n",
    "    country_metadata[\"country_metadata\"][i][\"population\"] \n",
    "    for i in range(len(country_metadata[\"country_metadata\"]))}\n",
    "\n",
    "# Then we can map, just like before\n",
    "corona_df_by_region[\"population\"] = corona_df_by_region[\"region\"].map(population_map)\n",
    "\n",
    "corona_df_by_region[\"ratio\"] = corona_df_by_region[\"confirmed_addition\"]/corona_df_by_region[\"population\"]"
   ]
  },
  {
   "cell_type": "code",
   "execution_count": null,
   "metadata": {
    "code_folding": []
   },
   "outputs": [],
   "source": [
    "n_cases = folium.Map(location = [51.5, 10.7], zoom_start = 6)\n",
    "\n",
    "folium.Choropleth(\n",
    "    geo_data = shape,\n",
    "    name = \"cases\",\n",
    "    data = corona_df_by_region,\n",
    "    columns = [\"region\", \"confirmed_addition\"],\n",
    "    key_on = \"properties.iso_3166_2\",\n",
    "    fill_color = \"OrRd\", \n",
    "    fill_opacity = 0.7,\n",
    "    line_opacity = 0.2,\n",
    "    highlight=True,\n",
    "    legend_name = \"Number of Cases of Covid-19\").add_to(n_cases)\n",
    "n_cases"
   ]
  },
  {
   "cell_type": "code",
   "execution_count": null,
   "metadata": {
    "code_folding": []
   },
   "outputs": [],
   "source": [
    "dead = folium.Map(location = [51.5, 10.7], zoom_start = 6)\n",
    "\n",
    "folium.Choropleth(\n",
    "    geo_data = shape,\n",
    "    name = \"cases\",\n",
    "    data = dead_by_region,\n",
    "    columns = [\"region\", \"deceased_addition\"],\n",
    "    key_on = \"properties.iso_3166_2\",\n",
    "    fill_color = \"Greys\", \n",
    "    fill_opacity = 0.7,\n",
    "    line_opacity = 0.2,\n",
    "    highlight=True,\n",
    "    legend_name = \"Number of Deceased with an covid-19 infection\").add_to(dead)\n",
    "dead"
   ]
  },
  {
   "cell_type": "code",
   "execution_count": null,
   "metadata": {
    "code_folding": [
     1
    ]
   },
   "outputs": [],
   "source": [
    "p_cases = folium.Map(location = [51.5, 10.7], zoom_start = 6)\n",
    "folium.Choropleth(\n",
    "    geo_data = shape,\n",
    "    name = \"population\",\n",
    "    data = corona_df_by_region,\n",
    "    columns = [\"region\", \"population\"],\n",
    "    key_on = \"properties.iso_3166_2\",\n",
    "    fill_color = \"YlGn\", \n",
    "    fill_opacity = 0.7,\n",
    "    line_opacity = 0.2,\n",
    "    highlight=True,\n",
    "    legend_name = \"Population\").add_to(p_cases)\n",
    "p_cases"
   ]
  },
  {
   "cell_type": "code",
   "execution_count": null,
   "metadata": {
    "code_folding": []
   },
   "outputs": [],
   "source": [
    "r_cases = folium.Map(location = [51.5, 10.7], zoom_start = 6)\n",
    "\n",
    "tiles = ['stamenwatercolor', 'cartodbpositron', 'openstreetmap', 'stamenterrain']\n",
    "for tile in tiles:\n",
    "    folium.TileLayer(tile).add_to(r_cases)\n",
    "\n",
    "folium.Choropleth(\n",
    "    geo_data = shape,\n",
    "    name = \"cases\",\n",
    "    data = corona_df_by_region,\n",
    "    columns = [\"region\", \"ratio\"],\n",
    "    key_on = \"properties.iso_3166_2\",\n",
    "    fill_color = \"OrRd\", \n",
    "    fill_opacity = 0.7,\n",
    "    line_opacity = 0.2,\n",
    "    legend_name = \"Number of Cases pr. population of region\",\n",
    "    highlight=True\n",
    ").add_to(r_cases)\n",
    "\n",
    "folium.LayerControl().add_to(r_cases)\n",
    "\n",
    "r_cases"
   ]
  },
  {
   "cell_type": "code",
   "execution_count": null,
   "metadata": {},
   "outputs": [],
   "source": [
    "# dividing by 24 since there is 24 hours in a day, though this takes into account night where the uvindex is \n",
    "# really small/nonexsistent\n",
    "# Could be argued that it should be divided by 16-18 since these are the hours where the sun is present. \n",
    "UV_by_region = interim_data[\"weather\"].groupby(by = \"iso3166-2\")[\"UVIndex\"].mean().reset_index()\n",
    "UV_by_region[\"UVIndex_scaled\"] = UV_by_region[\"UVIndex\"]/24"
   ]
  },
  {
   "cell_type": "code",
   "execution_count": null,
   "metadata": {
    "code_folding": [
     2
    ]
   },
   "outputs": [],
   "source": [
    "uv_index = folium.Map(location = [51.5, 10.7], zoom_start = 6)\n",
    "\n",
    "folium.Choropleth(\n",
    "    geo_data = shape,\n",
    "    name = \"uv-index\",\n",
    "    data = UV_by_region,\n",
    "    columns = [\"iso3166-2\", \"UVIndex_scaled\"],\n",
    "    key_on = \"properties.iso_3166_2\",\n",
    "    fill_color = \"OrRd\", \n",
    "    fill_opacity = 0.7,\n",
    "    line_opacity = 0.2,\n",
    "    highlight=True,\n",
    "    legend_name = \"UVIndex\",\n",
    "    smooth_factor=0).add_to(uv_index)\n",
    "uv_index"
   ]
  },
  {
   "cell_type": "code",
   "execution_count": null,
   "metadata": {},
   "outputs": [],
   "source": [
    "temp_by_region = interim_data[\"weather\"].groupby(by = \"iso3166-2\")[\"TemperatureAboveGround\"].mean().reset_index()\n",
    "temp_by_region[\"TemperatureAboveGround_scaled\"] = temp_by_region[\"TemperatureAboveGround\"]/24"
   ]
  },
  {
   "cell_type": "code",
   "execution_count": null,
   "metadata": {
    "code_folding": []
   },
   "outputs": [],
   "source": [
    "TAG = folium.Map(location = [51.5, 10.7], zoom_start = 6)\n",
    "\n",
    "folium.Choropleth(\n",
    "    geo_data = shape,\n",
    "    name = \"uv-index\",\n",
    "    data = temp_by_region,\n",
    "    columns = [\"iso3166-2\", \"TemperatureAboveGround_scaled\"],\n",
    "    key_on = \"properties.iso_3166_2\",\n",
    "    fill_color = \"OrRd\", \n",
    "    fill_opacity = 0.7,\n",
    "    line_opacity = 0.2,\n",
    "    highlight=True,\n",
    "    legend_name = \"average Temperature Above Ground on a daily basis\").add_to(TAG)\n",
    "TAG"
   ]
  },
  {
   "cell_type": "code",
   "execution_count": null,
   "metadata": {},
   "outputs": [],
   "source": [
    "raw_data['de_corona']['month'] = raw_data['de_corona']['date'].dt.strftime('%B')\n",
    "raw_data['de_corona']['year'] = raw_data['de_corona']['date'].dt.strftime('%Y')\n",
    "raw_data[\"de_corona\"][\"population\"] = raw_data[\"de_corona\"][\"region\"].map(population_map)\n",
    "raw_data[\"de_corona\"][\"confirmed_addition_ratio\"] = raw_data[\"de_corona\"][\"confirmed_addition\"]/raw_data[\"de_corona\"][\"population\"]"
   ]
  },
  {
   "cell_type": "code",
   "execution_count": null,
   "metadata": {},
   "outputs": [],
   "source": [
    "raw_data['de_corona']['month']"
   ]
  },
  {
   "cell_type": "code",
   "execution_count": null,
   "metadata": {},
   "outputs": [],
   "source": [
    "cases_2020_monthly = raw_data[\"de_corona\"][(raw_data[\"de_corona\"][\"year\"] == \"2020\")].groupby([\"month\", \"region\"]).sum()\n",
    "cases_2021_monthly = raw_data[\"de_corona\"][(raw_data[\"de_corona\"][\"year\"] == \"2021\")].groupby([\"month\", \"region\"]).sum()"
   ]
  },
  {
   "cell_type": "code",
   "execution_count": null,
   "metadata": {
    "code_folding": [
     1,
     27
    ]
   },
   "outputs": [],
   "source": [
    "confirmed_addition_ratio_maps = dict()\n",
    "for i in list(raw_data[\"de_corona\"][(raw_data[\"de_corona\"][\"year\"] == \"2020\")][\"month\"].unique()):\n",
    "    n_cases = folium.Map(location = [51.5, 10.7], zoom_start = 6)\n",
    "    \n",
    "    folium.map.Marker(\n",
    "    [54.5, 2],\n",
    "    icon=DivIcon(\n",
    "        icon_size=(400,50),\n",
    "        icon_anchor=(0,0),\n",
    "        html='<div style=\"font-size: 20pt\">{}</div>'.format(i),\n",
    "        )\n",
    "    ).add_to(n_cases)\n",
    "    \n",
    "    folium.Choropleth(\n",
    "        geo_data = shape,\n",
    "        name = \"cases\",\n",
    "        data = cases_2020_monthly.loc[i].reset_index(),\n",
    "        columns = [\"region\", \"confirmed_addition_ratio\"],\n",
    "        key_on = \"properties.iso_3166_2\",\n",
    "        fill_color = \"OrRd\", \n",
    "        fill_opacity = 0.7,\n",
    "        line_opacity = 0.2,\n",
    "        highlight=True,\n",
    "        nan_fill_color = \"purple\",\n",
    "        legend_name = \"Number of Cases of Covid-19 pr. population of region in {} 2020\".format(i)).add_to(n_cases)\n",
    "    confirmed_addition_ratio_maps[i+\"-2020\"] = n_cases\n",
    "for i in list(raw_data[\"de_corona\"][(raw_data[\"de_corona\"][\"year\"] == \"2021\")][\"month\"].unique()):\n",
    "    n_cases = folium.Map(location = [51.5, 10.7], zoom_start = 6)\n",
    "\n",
    "    folium.map.Marker(\n",
    "    [54.5, 2],\n",
    "    icon=DivIcon(\n",
    "        icon_size=(400,50),\n",
    "        icon_anchor=(0,0),\n",
    "        html='<div style=\"font-size: 20pt\">{}</div>'.format(i),\n",
    "        )\n",
    "    ).add_to(n_cases)\n",
    "    \n",
    "    folium.Choropleth(\n",
    "        geo_data = shape,\n",
    "        name = \"cases\",\n",
    "        data = cases_2021_monthly.loc[i].reset_index(),\n",
    "        columns = [\"region\", \"confirmed_addition_ratio\"],\n",
    "        key_on = \"properties.iso_3166_2\",\n",
    "        fill_color = \"OrRd\", \n",
    "        fill_opacity = 0.7,\n",
    "        line_opacity = 0.2,\n",
    "        highlight=True,\n",
    "        nan_fill_color = \"purple\",\n",
    "        legend_name = \"Number of Cases of Covid-19 pr. population of region in {} 2021\".format(i)).add_to(n_cases)\n",
    "    confirmed_addition_ratio_maps[i+\"-2021\"] = n_cases    "
   ]
  },
  {
   "cell_type": "code",
   "execution_count": null,
   "metadata": {
    "code_folding": [
     1,
     26
    ]
   },
   "outputs": [],
   "source": [
    "confirmed_addition_maps = dict()\n",
    "for i in list(raw_data[\"de_corona\"][(raw_data[\"de_corona\"][\"year\"] == \"2020\")][\"month\"].unique()):\n",
    "    n_cases = folium.Map(location = [51.5, 10.7], zoom_start = 6)\n",
    "    \n",
    "    folium.map.Marker(\n",
    "    [54.5, 2],\n",
    "    icon=DivIcon(\n",
    "        icon_size=(400,50),\n",
    "        icon_anchor=(0,0),\n",
    "        html='<div style=\"font-size: 20pt\">{}-2020</div>'.format(i),\n",
    "        )\n",
    "    ).add_to(n_cases)\n",
    "    \n",
    "    folium.Choropleth(\n",
    "        geo_data = shape,\n",
    "        name = \"cases\",\n",
    "        data = cases_2020_monthly.loc[i].reset_index(),\n",
    "        columns = [\"region\", \"confirmed_addition\"],\n",
    "        key_on = \"properties.iso_3166_2\",\n",
    "        fill_color = \"OrRd\", \n",
    "        fill_opacity = 0.7,\n",
    "        line_opacity = 0.2,\n",
    "        highlight=True,\n",
    "        nan_fill_color = \"purple\",\n",
    "        legend_name = \"Number of Cases of Covid-19 in {} 2020\".format(i)).add_to(n_cases)\n",
    "    confirmed_addition_maps[i+\"-2020\"] = n_cases\n",
    "for i in list(raw_data[\"de_corona\"][(raw_data[\"de_corona\"][\"year\"] == \"2021\")][\"month\"].unique()):\n",
    "    n_cases = folium.Map(location = [51.5, 10.7], zoom_start = 6)\n",
    "\n",
    "    folium.map.Marker(\n",
    "    [54.5, 2],\n",
    "    icon=DivIcon(\n",
    "        icon_size=(400,50),\n",
    "        icon_anchor=(0,0),\n",
    "        html='<div style=\"font-size: 20pt\">{}-2021</div>'.format(i),\n",
    "        )\n",
    "    ).add_to(n_cases)\n",
    "    \n",
    "    folium.Choropleth(\n",
    "        geo_data = shape,\n",
    "        name = \"cases\",\n",
    "        data = cases_2021_monthly.loc[i].reset_index(),\n",
    "        columns = [\"region\", \"confirmed_addition\"],\n",
    "        key_on = \"properties.iso_3166_2\",\n",
    "        fill_color = \"OrRd\", \n",
    "        fill_opacity = 0.7,\n",
    "        line_opacity = 0.2,\n",
    "        highlight=True,\n",
    "        nan_fill_color = \"purple\",\n",
    "        legend_name = \"Number of Cases of Covid-19 in {} 2021\".format(i)).add_to(n_cases)\n",
    "    confirmed_addition_maps[i+\"-2021\"] = n_cases   \n",
    "confirmed_addition = [\"maps/confirmed_addition/\"+i+\".png\" for i in confirmed_addition_maps.keys()]\n",
    "images = []\n",
    "for filename in confirmed_addition:\n",
    "    images.append(imageio.imread(filename))\n",
    "imageio.mimsave('map_gifs/confirmed_addition_maps.gif', images, duration=2)"
   ]
  },
  {
   "cell_type": "code",
   "execution_count": null,
   "metadata": {
    "code_folding": [
     1,
     26
    ]
   },
   "outputs": [],
   "source": [
    "deceased_addition_maps = dict()\n",
    "for i in list(raw_data[\"de_corona\"][(raw_data[\"de_corona\"][\"year\"] == \"2020\")][\"month\"].unique()):\n",
    "    n_cases = folium.Map(location = [51.5, 10.7], zoom_start = 6)\n",
    "\n",
    "    folium.map.Marker(\n",
    "    [54.5, 2],\n",
    "    icon=DivIcon(\n",
    "        icon_size=(400,50),\n",
    "        icon_anchor=(0,0),\n",
    "        html='<div style=\"font-size: 20pt\">{}-2020</div>'.format(i),\n",
    "        )\n",
    "    ).add_to(n_cases)\n",
    "    \n",
    "    folium.Choropleth(\n",
    "        geo_data = shape,\n",
    "        name = \"cases\",\n",
    "        data = cases_2020_monthly.loc[i].reset_index(),\n",
    "        columns = [\"region\", \"deceased_addition\"],\n",
    "        key_on = \"properties.iso_3166_2\",\n",
    "        fill_color = \"Greys\", \n",
    "        fill_opacity = 0.7,\n",
    "        line_opacity = 0.2,\n",
    "        highlight=True,\n",
    "        nan_fill_color = \"purple\",\n",
    "        legend_name = \"Number of deceased with a Covid-19 infection in {} 2020\".format(i)).add_to(n_cases)\n",
    "    deceased_addition_maps[i+\"-2020\"] = n_cases\n",
    "for i in list(raw_data[\"de_corona\"][(raw_data[\"de_corona\"][\"year\"] == \"2021\")][\"month\"].unique()):\n",
    "    n_cases = folium.Map(location = [51.5, 10.7], zoom_start = 6)\n",
    "\n",
    "    folium.map.Marker(\n",
    "    [54.5, 2],\n",
    "    icon=DivIcon(\n",
    "        icon_size=(400,50),\n",
    "        icon_anchor=(0,0),\n",
    "        html='<div style=\"font-size: 20pt\">{}-2021</div>'.format(i),\n",
    "        )\n",
    "    ).add_to(n_cases)\n",
    "    \n",
    "    folium.Choropleth(\n",
    "        geo_data = shape,\n",
    "        name = \"cases\",\n",
    "        data = cases_2021_monthly.loc[i].reset_index(),\n",
    "        columns = [\"region\", \"deceased_addition\"],\n",
    "        key_on = \"properties.iso_3166_2\",\n",
    "        fill_color = \"Greys\", \n",
    "        fill_opacity = 0.7,\n",
    "        line_opacity = 0.2,\n",
    "        highlight=True,\n",
    "        nan_fill_color = \"purple\",\n",
    "        legend_name = \"Number of deceased with a Covid-19 infection in {} 2021\".format(i)).add_to(n_cases)\n",
    "    deceased_addition_maps[i+\"-2021\"] = n_cases   \n",
    "deceased_addition = [\"maps/deceased_addition/\"+i+\".png\" for i in confirmed_addition_maps.keys()]\n",
    "images = []\n",
    "for filename in deceased_addition:\n",
    "    images.append(imageio.imread(filename))\n",
    "imageio.mimsave('map_gifs/deceased_addition_maps.gif', images, duration=2)"
   ]
  },
  {
   "cell_type": "markdown",
   "metadata": {},
   "source": [
    "All the monthly maps can be accessed by doing, there has also been made gifs of the maps\n",
    "```python\n",
    "deceased_addition_maps[\"January-2020\"]\n",
    "confirmed_addition_maps[\"January-2020\"]\n",
    "confirmed_addition_ratio_maps[\"January-2020\"]\n",
    "```\n",
    "Missing data, or there was no recorded data in that region, the color of the region will be purple\n",
    "Month and year can be changed"
   ]
  },
  {
   "cell_type": "code",
   "execution_count": null,
   "metadata": {},
   "outputs": [],
   "source": [
    "confirmed_addition_maps[\"January-2020\"]"
   ]
  },
  {
   "cell_type": "markdown",
   "metadata": {},
   "source": [
    "![SegmentLocal](map_gifs/confirmed_addition_maps.gif \"segment\")"
   ]
  },
  {
   "cell_type": "code",
   "execution_count": null,
   "metadata": {},
   "outputs": [],
   "source": [
    "deceased_addition_maps[\"February-2021\"]"
   ]
  },
  {
   "cell_type": "markdown",
   "metadata": {},
   "source": [
    "![SegmentLocal](map_gifs/deceased_addition_maps.gif \"segment\")"
   ]
  },
  {
   "cell_type": "code",
   "execution_count": null,
   "metadata": {},
   "outputs": [],
   "source": [
    "confirmed_addition_ratio_maps[\"Jan-2020\"]"
   ]
  },
  {
   "cell_type": "code",
   "execution_count": null,
   "metadata": {},
   "outputs": [],
   "source": [
    "fig = plt.figure(figsize=(15,5))\n",
    "axes = fig.add_axes([0,0,1,1])\n",
    "axes.bar(raw_data[\"de_corona\"][\"date\"], raw_data[\"de_corona\"][\"confirmed_addition\"]);\n",
    "#axes.set_yscale('log');"
   ]
  }
 ],
 "metadata": {
  "kernelspec": {
   "display_name": "Python 3",
   "language": "python",
   "name": "python3"
  },
  "language_info": {
   "codemirror_mode": {
    "name": "ipython",
    "version": 3
   },
   "file_extension": ".py",
   "mimetype": "text/x-python",
   "name": "python",
   "nbconvert_exporter": "python",
   "pygments_lexer": "ipython3",
   "version": "3.8.3"
  },
  "latex_envs": {
   "LaTeX_envs_menu_present": true,
   "autoclose": false,
   "autocomplete": true,
   "bibliofile": "biblio.bib",
   "cite_by": "apalike",
   "current_citInitial": 1,
   "eqLabelWithNumbers": true,
   "eqNumInitial": 1,
   "hotkeys": {
    "equation": "Ctrl-E",
    "itemize": "Ctrl-I"
   },
   "labels_anchors": false,
   "latex_user_defs": false,
   "report_style_numbering": false,
   "user_envs_cfg": false
  },
  "toc": {
   "base_numbering": 1,
   "nav_menu": {},
   "number_sections": true,
   "sideBar": true,
   "skip_h1_title": false,
   "title_cell": "Table of Contents",
   "title_sidebar": "Contents",
   "toc_cell": false,
   "toc_position": {},
   "toc_section_display": true,
   "toc_window_display": false
  }
 },
 "nbformat": 4,
 "nbformat_minor": 4
}
